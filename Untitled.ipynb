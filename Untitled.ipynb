{
 "cells": [
  {
   "cell_type": "markdown",
   "id": "2c079dc3",
   "metadata": {},
   "source": [
    "# Creating a Dictionary\n",
    "Defined by **'{}'** and consist of key-valued pairs separated by **':'**. Keys are unique within a dict and must be immutable types(eg Strings, numbers), while values can be of any type"
   ]
  },
  {
   "cell_type": "code",
   "execution_count": 1,
   "id": "3ec120ee",
   "metadata": {},
   "outputs": [],
   "source": [
    "empty_dict = {}\n",
    "\n",
    "my_dict = {'key1': 'value1', 'key2': 'value2', 'key3': 'value3'}"
   ]
  },
  {
   "cell_type": "markdown",
   "id": "a6181b15",
   "metadata": {},
   "source": [
    "# Accessing the Values\n",
    "Using corresponding key inside **'[]'**. If the key doesn't exist, an error is raise.\n",
    "Using **'get()'** method. Return **'None'** or default value if the key doesn't exist"
   ]
  },
  {
   "cell_type": "code",
   "execution_count": 2,
   "id": "8f44e5dc",
   "metadata": {},
   "outputs": [
    {
     "name": "stdout",
     "output_type": "stream",
     "text": [
      "Francis\n",
      "25\n",
      "Unknown\n"
     ]
    }
   ],
   "source": [
    "my_dict = {'name': 'Francis', 'age': 25}\n",
    "\n",
    "print(my_dict['name'])\n",
    "print(my_dict.get('age'))\n",
    "print(my_dict.get('city', 'Unknown'))"
   ]
  },
  {
   "cell_type": "markdown",
   "id": "417d6f9a",
   "metadata": {},
   "source": [
    "# Modifying and adding Elements\n",
    "You can modify the value of an existing key or add a new key-value pair to a dictionary."
   ]
  },
  {
   "cell_type": "code",
   "execution_count": 3,
   "id": "ec995338",
   "metadata": {},
   "outputs": [
    {
     "data": {
      "text/plain": [
       "{'name': 'Francis', 'age': 30, 'city': 'Nairobi'}"
      ]
     },
     "execution_count": 3,
     "metadata": {},
     "output_type": "execute_result"
    }
   ],
   "source": [
    "my_dict['age'] = 30\n",
    "my_dict['city'] = \"Nairobi\"\n",
    "my_dict"
   ]
  },
  {
   "cell_type": "markdown",
   "id": "778406b2",
   "metadata": {},
   "source": [
    "# Dictionary Methods\n",
    "1. **'keys()'**: Resturns a view object containing the dict's keys\n",
    "2. **'values()'**: Return a view object containing the dict's  values\n",
    "3. **'items()'**: Returns a view object containing key-value pairs as tuples.\n",
    "4. **'pop()'**: Removes and return the value associated with the given key.\n",
    "5. **'popitem()'**: Removes and return the last inserted key-value pair.\n",
    "6. **'update()'**: Update a dict with key-value pairs from another dictionary or an iterable of key-value pairs.\n",
    "7. **'clear()'**: Removes all key-value pairs from the dictionary"
   ]
  },
  {
   "cell_type": "code",
   "execution_count": 4,
   "id": "f900fd95",
   "metadata": {},
   "outputs": [
    {
     "name": "stdout",
     "output_type": "stream",
     "text": [
      "dict_keys(['name', 'age', 'city'])\n",
      "dict_values(['Francis', 30, 'Nairobi'])\n",
      "dict_items([('name', 'Francis'), ('age', 30), ('city', 'Nairobi')])\n",
      "30\n",
      "('city', 'Nairobi')\n",
      "{'name': 'Francis', 'city': 'New York', 'country': 'USA'}\n"
     ]
    }
   ],
   "source": [
    "print(my_dict.keys())\n",
    "print(my_dict.values())\n",
    "print(my_dict.items())\n",
    "age = my_dict.pop('age')\n",
    "print(age)\n",
    "item = my_dict.popitem()\n",
    "print(item)\n",
    "my_dict.update({'city': 'New York', 'country': 'USA'})\n",
    "print(my_dict)\n",
    "my_dict.clear()"
   ]
  },
  {
   "cell_type": "markdown",
   "id": "b7d573bf",
   "metadata": {},
   "source": [
    "# Dictionary Iteration\n",
    "Can access keys, values, or key-value pairs"
   ]
  },
  {
   "cell_type": "code",
   "execution_count": 13,
   "id": "d73588e3",
   "metadata": {},
   "outputs": [
    {
     "name": "stdout",
     "output_type": "stream",
     "text": [
      "name\n",
      "age\n",
      "city\n",
      "Alice\n",
      "25\n",
      "Kisumu\n",
      " key: name, value: Alice\n",
      " key: age, value: 25\n",
      " key: city, value: Kisumu\n"
     ]
    }
   ],
   "source": [
    "my_dict = {'name': 'Alice', 'age':25, 'city': 'Kisumu'}\n",
    "\n",
    "for key in my_dict:\n",
    "    print(key)\n",
    "    \n",
    "for value in my_dict.values():\n",
    "    print(value)\n",
    "\n",
    "for key, value in my_dict.items():\n",
    "    print(f\" key: {key}, value: {value}\")"
   ]
  }
 ],
 "metadata": {
  "kernelspec": {
   "display_name": "Python 3 (ipykernel)",
   "language": "python",
   "name": "python3"
  },
  "language_info": {
   "codemirror_mode": {
    "name": "ipython",
    "version": 3
   },
   "file_extension": ".py",
   "mimetype": "text/x-python",
   "name": "python",
   "nbconvert_exporter": "python",
   "pygments_lexer": "ipython3",
   "version": "3.10.6"
  }
 },
 "nbformat": 4,
 "nbformat_minor": 5
}
