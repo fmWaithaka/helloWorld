{
  "cells": [
    {
      "cell_type": "markdown",
      "id": "6c27ae21",
      "metadata": {},
      "source": [
        "# Creating Strings\n",
        "sequence of characters enclosed in either single quotes ('') or double quotes (\"\")"
      ]
    },
    {
      "cell_type": "code",
      "execution_count": 1,
      "id": "cc7109be",
      "metadata": {},
      "outputs": [],
      "source": [
        "string1 = 'Hello, World!'\n",
        "string2 = \"Python is awesome\"\n",
        "string3 = '''This is a multi-line \n",
        "string'''"
      ]
    },
    {
      "cell_type": "markdown",
      "id": "a2d3518c",
      "metadata": {},
      "source": [
        "# String Manipulation\n",
        "## Accessing Characters\n",
        "Strings can be accessed using index"
      ]
    },
    {
      "cell_type": "code",
      "execution_count": 3,
      "id": "75e2c040",
      "metadata": {},
      "outputs": [
        {
          "name": "stdout",
          "output_type": "stream",
          "text": [
            "H\n",
            "W\n"
          ]
        }
      ],
      "source": [
        "print(string1[0])\n",
        "print(string1[7])"
      ]
    },
    {
      "cell_type": "markdown",
      "id": "e581df98",
      "metadata": {},
      "source": [
        "Using negative indexing to access characters"
      ]
    },
    {
      "cell_type": "code",
      "execution_count": 6,
      "id": "f3e08195",
      "metadata": {
        "scrolled": true
      },
      "outputs": [
        {
          "name": "stdout",
          "output_type": "stream",
          "text": [
            "e\n",
            "e\n"
          ]
        }
      ],
      "source": [
        "print(string2[-1])\n",
        "print(string3[-9])"
      ]
    },
    {
      "cell_type": "markdown",
      "id": "18e8737a",
      "metadata": {},
      "source": [
        "# Slicing\n",
        "Slicing enables you to extract a portion of a stringSyntax for slicing is  **string[start:end:step]** , where **'start'** is the starting index, **'end'** is the ending index(exclusive), and **'step'** is the step size."
      ]
    },
    {
      "cell_type": "code",
      "execution_count": 9,
      "id": "abd623d3",
      "metadata": {},
      "outputs": [
        {
          "name": "stdout",
          "output_type": "stream",
          "text": [
            "Hello\n",
            "World!\n",
            "Hlo \n",
            "Hello\n",
            "Hl r!\n"
          ]
        }
      ],
      "source": [
        "print(string1[0:5])\n",
        "print(string1[7:])\n",
        "print(string1[0:8:2])\n",
        "print(string1[:5])\n",
        "print(string1[::3])"
      ]
    },
    {
      "cell_type": "markdown",
      "id": "efeccfb0",
      "metadata": {},
      "source": [
        "# Concatentation\n",
        "**'+'** operator is used to concate string"
      ]
    },
    {
      "cell_type": "code",
      "execution_count": 10,
      "id": "900b2f8b",
      "metadata": {},
      "outputs": [
        {
          "name": "stdout",
          "output_type": "stream",
          "text": [
            "Hello, World! Python is awesome\n"
          ]
        }
      ],
      "source": [
        "concatenated_string = string1 + \" \" + string2\n",
        "print(concatenated_string)"
      ]
    },
    {
      "cell_type": "markdown",
      "id": "2025612f",
      "metadata": {},
      "source": [
        "# String Length\n",
        "**'len()'** function is used to find string length"
      ]
    },
    {
      "cell_type": "code",
      "execution_count": 11,
      "id": "65bce853",
      "metadata": {},
      "outputs": [
        {
          "name": "stdout",
          "output_type": "stream",
          "text": [
            "13\n"
          ]
        }
      ],
      "source": [
        "print(len(string1))"
      ]
    },
    {
      "cell_type": "markdown",
      "id": "9de1276c",
      "metadata": {},
      "source": [
        "# String Methods\n",
        "1. **'upper()'** : Convert all characters to uppercase\n",
        "2. **'lower()'**: Convert all characters to lowercase\n",
        "3. **'strip()'**: Removes leading and trailing whitespaces\n",
        "4. **'split()'**: Splits the string into list of substrings based on a delimeter\n",
        "5. **'join()'**: Join a list of string into a single string\n",
        "6. **'replace()'**: replaces a substring with another substring.\n",
        "7. **'find()'**: Resturns the index of the first occurence of substring\n",
        "8. **'count()'**: Returns the number of occurence of subsring"
      ]
    },
    {
      "cell_type": "code",
      "execution_count": 14,
      "id": "6a1aed67",
      "metadata": {
        "scrolled": true
      },
      "outputs": [
        {
          "name": "stdout",
          "output_type": "stream",
          "text": [
            "HELLO, WORLD!\n",
            "hello, world!\n",
            "Hello, World!\n",
            "['Hello', ' World!']\n",
            "Cup-cake\n",
            "Hi, World!\n",
            "7\n",
            "3\n"
          ]
        }
      ],
      "source": [
        "print(string1.upper())\n",
        "print(string1.lower())\n",
        "print(string1.strip())\n",
        "print(string1.split(\",\"))\n",
        "print(\"-\".join(['Cup', 'cake']))\n",
        "print(string1.replace(\"Hello\", \"Hi\"))\n",
        "print(string1.find(\"World\"))\n",
        "print(string1.count('l'))"
      ]
    },
    {
      "cell_type": "markdown",
      "id": "67c7cac3",
      "metadata": {},
      "source": [
        "# String Formatting\n",
        "Python allows you to combine variable and text seamlessly\n",
        "## f-strings(Formatted String Literals)"
      ]
    },
    {
      "cell_type": "code",
      "execution_count": 20,
      "id": "beb76945",
      "metadata": {},
      "outputs": [
        {
          "name": "stdout",
          "output_type": "stream",
          "text": [
            "My name is Francis and I am 22 years old.\n"
          ]
        }
      ],
      "source": [
        "name = \"Francis\"\n",
        "age = 22\n",
        "print(f\"My name is {name} and I am {age} years old.\")"
      ]
    },
    {
      "cell_type": "markdown",
      "id": "8836f22e",
      "metadata": {},
      "source": [
        "## Format Method"
      ]
    },
    {
      "cell_type": "code",
      "execution_count": 21,
      "id": "264d5301",
      "metadata": {},
      "outputs": [
        {
          "name": "stdout",
          "output_type": "stream",
          "text": [
            "My name is Francis and I am 22 years old.\n"
          ]
        }
      ],
      "source": [
        "print(\"My name is {} and I am {} years old.\".format(name, age))"
      ]
    },
    {
      "cell_type": "markdown",
      "id": "34fc7ad1",
      "metadata": {},
      "source": [
        "## %-Formatting"
      ]
    },
    {
      "cell_type": "code",
      "execution_count": 22,
      "id": "7c9a91ee",
      "metadata": {},
      "outputs": [
        {
          "name": "stdout",
          "output_type": "stream",
          "text": [
            "My name is Francis and I am 22 years old.\n"
          ]
        }
      ],
      "source": [
        "print(\"My name is %s and I am %d years old.\"%(name, age))"
      ]
    },
    {
      "cell_type": "markdown",
      "id": "7f19d10d",
      "metadata": {},
      "source": [
        "# String Operation\n",
        "## String Comparision\n",
        "You can compare strings using the comparision operators\n",
        "***\n",
        "**('==', '!=', '>', '<', '>=', '<=')**"
      ]
    },
    {
      "cell_type": "code",
      "execution_count": 23,
      "id": "2437e03a",
      "metadata": {},
      "outputs": [
        {
          "name": "stdout",
          "output_type": "stream",
          "text": [
            "False\n",
            "True\n"
          ]
        }
      ],
      "source": [
        "str1 = \"apple\"\n",
        "str2 = \"banana\"\n",
        "print(str1 == str2)\n",
        "print(str1 < str2)"
      ]
    },
    {
      "cell_type": "markdown",
      "id": "7ebf0bff",
      "metadata": {},
      "source": [
        "# String Membership\n",
        "You can check if the substring is present by using the **'in'** operator"
      ]
    },
    {
      "cell_type": "code",
      "execution_count": 24,
      "id": "876262ce",
      "metadata": {},
      "outputs": [
        {
          "name": "stdout",
          "output_type": "stream",
          "text": [
            "True\n",
            "False\n"
          ]
        }
      ],
      "source": [
        "print(\"Hello\" in string1)\n",
        "print(\"Python\" in string1)"
      ]
    },
    {
      "cell_type": "markdown",
      "id": "8ff9d93d",
      "metadata": {},
      "source": [
        "# String Handling\n",
        "## String Escape Sequence\n",
        "1. **\" \\' \"**: Single quote\n",
        "2. **' \\\" '**: Double quote\n",
        "3. **\" \\\\ \"**: Backslash\n",
        "4. '**\\n**' : Newline\n",
        "5. '**\\t**': Tab"
      ]
    },
    {
      "cell_type": "code",
      "execution_count": 25,
      "id": "bb044b61",
      "metadata": {},
      "outputs": [
        {
          "name": "stdout",
          "output_type": "stream",
          "text": [
            "I'm learning Python.\n",
            "She said, \"Hello!\"\n",
            "C:\\path\\to\\file\n",
            "Line 1\n",
            "Line 2\n",
            "Before\tAfter\n"
          ]
        }
      ],
      "source": [
        "print('I\\'m learning Python.')  # Output: I'm learning Python.\n",
        "print(\"She said, \\\"Hello!\\\"\")  # Output: She said, \"Hello!\"\n",
        "print(\"C:\\\\path\\\\to\\\\file\")  # Output: C:\\path\\to\\file\n",
        "print(\"Line 1\\nLine 2\")  # Output: Line 1 (newline) Line 2\n",
        "print(\"Before\\tAfter\")  # Output: Before (tab) After\n"
      ]
    },
    {
      "cell_type": "markdown",
      "id": "ef0ab688",
      "metadata": {},
      "source": [
        "# Raw Strings\n",
        "Raw strings are useful when you want to treat backslashes as literal characters rather than escape characters. You can create a raw string by prefixing the string with **'r'** or **'R'**:"
      ]
    },
    {
      "cell_type": "code",
      "execution_count": 26,
      "id": "b904a5a3",
      "metadata": {},
      "outputs": [
        {
          "name": "stdout",
          "output_type": "stream",
          "text": [
            "C:\\path\\to\\file\n"
          ]
        }
      ],
      "source": [
        "print(r\"C:\\path\\to\\file\")  # Output: C:\\path\\to\\file"
      ]
    },
    {
      "cell_type": "markdown",
      "id": "7b6ae373",
      "metadata": {},
      "source": [
        "# String Algorithms\n",
        "# Palindrome Check\n",
        "A palindrome is a word, phrase, number, or other sequence of characters that reads the same forward and backward. You can check if a string is a palindrome by comparing it with its reversed version.\n"
      ]
    },
    {
      "cell_type": "code",
      "execution_count": 27,
      "id": "43abc811",
      "metadata": {},
      "outputs": [
        {
          "name": "stdout",
          "output_type": "stream",
          "text": [
            "String is a palindrome\n"
          ]
        }
      ],
      "source": [
        "def is_palindrome(string):\n",
        "    return string == string[::-1]\n",
        "\n",
        "my_string = 'level'\n",
        "if is_palindrome(my_string):\n",
        "    print(\"String is a palindrome\")\n",
        "else: \n",
        "    print(\"String is not a palindrome\")"
      ]
    },
    {
      "cell_type": "markdown",
      "id": "968cbb2c",
      "metadata": {},
      "source": [
        "## Regular Expression\n",
        "A regular expression is a special sequence of characters that helps you match or find other strings or sets of strings, using a specialized syntax held in a pattern. The **'re'** module provides functions for working with regular expressions.\n",
        "\n",
        "### Functions in Regular expression \n",
        "1. **'re.match()**: This function checks if a pattern matches the begging of a string.\n",
        "2. **'re.search()**: This function checks if a pattern matches anywhere in a string.\n",
        "3. **'re.findall()**: This function finds all occurences of a pattern in a string\n",
        "4. **'re.sub()**: This function replaces all occurences of a pattern in a string with another string."
      ]
    },
    {
      "cell_type": "code",
      "execution_count": 28,
      "id": "73bf59ec",
      "metadata": {},
      "outputs": [
        {
          "name": "stdout",
          "output_type": "stream",
          "text": [
            "['cat']\n"
          ]
        }
      ],
      "source": [
        "import re\n",
        "\n",
        "my_string = \"The cat sat on thr mat\"\n",
        "pattern = r\"cat\"\n",
        "matches = re.findall(pattern, my_string)\n",
        "print(matches)"
      ]
    },
    {
      "cell_type": "code",
      "execution_count": 29,
      "id": "36b0152f",
      "metadata": {},
      "outputs": [
        {
          "name": "stdout",
          "output_type": "stream",
          "text": [
            "The phone number is invalid\n"
          ]
        }
      ],
      "source": [
        "import re\n",
        "\n",
        "pattern = '^[0-9]{3}-[0-9]{3}-[0-9]{4}0'\n",
        "\n",
        "text = \"My phone number is 123-456-7890\"\n",
        "\n",
        "match = re.match(pattern, text)\n",
        "\n",
        "if match:\n",
        "    print('The phone number is valid.')\n",
        "else:\n",
        "    print(\"The phone number is invalid\")"
      ]
    },
    {
      "cell_type": "code",
      "execution_count": 31,
      "id": "bf406866",
      "metadata": {},
      "outputs": [
        {
          "name": "stdout",
          "output_type": "stream",
          "text": [
            "The word \"phone\" was found in the text.\n"
          ]
        }
      ],
      "source": [
        "# Re.search()\n",
        "pattern = 'phone'\n",
        "\n",
        "match = re.search(pattern, text)\n",
        "\n",
        "if match:\n",
        "    print('The word \"phone\" was found in the text.')\n",
        "else:\n",
        "    print('The word \"phone\" was not found in the text.')"
      ]
    },
    {
      "cell_type": "code",
      "execution_count": null,
      "id": "1967f41f",
      "metadata": {},
      "outputs": [],
      "source": []
    }
  ],
  "metadata": {
    "kernelspec": {
      "display_name": "Python 3 (ipykernel)",
      "language": "python",
      "name": "python3"
    },
    "language_info": {
      "codemirror_mode": {
        "name": "ipython",
        "version": 3
      },
      "file_extension": ".py",
      "mimetype": "text/x-python",
      "name": "python",
      "nbconvert_exporter": "python",
      "pygments_lexer": "ipython3",
      "version": "3.10.6"
    }
  },
  "nbformat": 4,
  "nbformat_minor": 5
}
